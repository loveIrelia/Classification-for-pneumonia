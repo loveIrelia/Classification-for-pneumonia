{
 "cells": [
  {
   "cell_type": "code",
   "execution_count": 1,
   "metadata": {},
   "outputs": [],
   "source": [
    "import pickle\n",
    "from tensorflow.keras.models import Sequential\n",
    "from tensorflow.keras.layers import Dense , Activation\n",
    "from tensorflow.keras.layers import Dropout\n",
    "from tensorflow.keras.layers import Flatten\n",
    "from tensorflow.keras.constraints import max_norm\n",
    "from tensorflow.keras.optimizers import SGD , RMSprop\n",
    "from tensorflow.keras.layers import Conv2D , BatchNormalization\n",
    "from tensorflow.keras.layers import MaxPooling2D\n",
    "# from tensorflow.keras.utils import np_utils\n",
    "from tensorflow.keras import backend as K\n",
    "from sklearn.model_selection import GridSearchCV\n",
    "from tensorflow.keras.wrappers.scikit_learn import KerasClassifier\n",
    "K.set_image_data_format('channels_first')\n",
    "import tensorflow as tf\n",
    "from tensorflow.keras.callbacks import ReduceLROnPlateau , ModelCheckpoint\n",
    "with open('X_train.pkl', 'rb') as file:\n",
    "    X_train =pickle.load(file)\n",
    "with open('X_test.pkl', 'rb') as file:\n",
    "    X_test =pickle.load(file)\n",
    "    \n",
    "with open('y_train.pkl', 'rb') as file:\n",
    "    y_train =pickle.load(file)\n",
    "    \n",
    "with open('y_test.pkl', 'rb') as file:\n",
    "    y_test =pickle.load(file)\n",
    "with open('X_val.pkl', 'rb') as file:\n",
    "    X_val =pickle.load(file)\n",
    "    \n",
    "with open('y_val.pkl', 'rb') as file:\n",
    "    y_val =pickle.load(file)\n",
    "    "
   ]
  },
  {
   "cell_type": "code",
   "execution_count": 2,
   "metadata": {},
   "outputs": [],
   "source": [
    "y_train = tf.one_hot(y_train, 2)\n",
    "y_test = tf.one_hot(y_test, 2)\n",
    "y_val = tf.one_hot(y_val, 2)\n",
    "X_train=X_train.reshape(5216,3,150,150)\n",
    "X_test=X_test.reshape(624,3,150,150)\n",
    "X_val = X_val.reshape(16,3,150,150)"
   ]
  },
  {
   "cell_type": "code",
   "execution_count": 3,
   "metadata": {},
   "outputs": [
    {
     "name": "stdout",
     "output_type": "stream",
     "text": [
      "WARNING:tensorflow:`epsilon` argument is deprecated and will be removed, use `min_delta` instead.\n"
     ]
    }
   ],
   "source": [
    "filepath=\"weights1.hdf5\"\n",
    "lr_reduce = ReduceLROnPlateau(monitor='val_accuracy', factor=0.1, epsilon=0.0001, patience=1, verbose=1)\n",
    "checkpoint = ModelCheckpoint(filepath, monitor='val_accuracy', verbose=1, save_best_only=True, mode='max')"
   ]
  },
  {
   "cell_type": "code",
   "execution_count": 4,
   "metadata": {},
   "outputs": [
    {
     "name": "stdout",
     "output_type": "stream",
     "text": [
      "Model: \"sequential\"\n",
      "_________________________________________________________________\n",
      "Layer (type)                 Output Shape              Param #   \n",
      "=================================================================\n",
      "conv2d (Conv2D)              (None, 16, 150, 150)      448       \n",
      "_________________________________________________________________\n",
      "conv2d_1 (Conv2D)            (None, 16, 150, 150)      2320      \n",
      "_________________________________________________________________\n",
      "max_pooling2d (MaxPooling2D) (None, 16, 75, 75)        0         \n",
      "_________________________________________________________________\n",
      "conv2d_2 (Conv2D)            (None, 32, 75, 75)        4640      \n",
      "_________________________________________________________________\n",
      "conv2d_3 (Conv2D)            (None, 32, 75, 75)        9248      \n",
      "_________________________________________________________________\n",
      "max_pooling2d_1 (MaxPooling2 (None, 32, 37, 37)        0         \n",
      "_________________________________________________________________\n",
      "conv2d_4 (Conv2D)            (None, 64, 37, 37)        18496     \n",
      "_________________________________________________________________\n",
      "conv2d_5 (Conv2D)            (None, 64, 37, 37)        36928     \n",
      "_________________________________________________________________\n",
      "max_pooling2d_2 (MaxPooling2 (None, 64, 18, 18)        0         \n",
      "_________________________________________________________________\n",
      "conv2d_6 (Conv2D)            (None, 96, 18, 18)        55392     \n",
      "_________________________________________________________________\n",
      "conv2d_7 (Conv2D)            (None, 96, 16, 16)        83040     \n",
      "_________________________________________________________________\n",
      "max_pooling2d_3 (MaxPooling2 (None, 96, 8, 8)          0         \n",
      "_________________________________________________________________\n",
      "conv2d_8 (Conv2D)            (None, 128, 8, 8)         110720    \n",
      "_________________________________________________________________\n",
      "conv2d_9 (Conv2D)            (None, 128, 6, 6)         147584    \n",
      "_________________________________________________________________\n",
      "max_pooling2d_4 (MaxPooling2 (None, 128, 3, 3)         0         \n",
      "_________________________________________________________________\n",
      "flatten (Flatten)            (None, 1152)              0         \n",
      "_________________________________________________________________\n",
      "dense (Dense)                (None, 64)                73792     \n",
      "_________________________________________________________________\n",
      "dropout (Dropout)            (None, 64)                0         \n",
      "_________________________________________________________________\n",
      "dense_1 (Dense)              (None, 2)                 130       \n",
      "=================================================================\n",
      "Total params: 542,738\n",
      "Trainable params: 542,738\n",
      "Non-trainable params: 0\n",
      "_________________________________________________________________\n",
      "None\n"
     ]
    }
   ],
   "source": [
    "def swish_activation(x):\n",
    "    return (K.sigmoid(x) * x)\n",
    "\n",
    "model = Sequential()\n",
    "model.add(Conv2D(16, (3, 3), activation='relu', padding=\"same\", input_shape=(3,150,150)))\n",
    "model.add(Conv2D(16, (3, 3), padding=\"same\", activation='relu'))\n",
    "model.add(MaxPooling2D(pool_size=(2, 2)))\n",
    "\n",
    "model.add(Conv2D(32, (3, 3), activation='relu', padding=\"same\"))\n",
    "model.add(Conv2D(32, (3, 3), padding=\"same\", activation='relu'))\n",
    "model.add(MaxPooling2D(pool_size=(2, 2)))\n",
    "\n",
    "model.add(Conv2D(64, (3, 3), activation='relu', padding=\"same\"))\n",
    "model.add(Conv2D(64, (3, 3), padding=\"same\", activation='relu'))\n",
    "model.add(MaxPooling2D(pool_size=(2, 2)))\n",
    "\n",
    "model.add(Conv2D(96, (3, 3), dilation_rate=(2, 2), activation='relu', padding=\"same\"))\n",
    "model.add(Conv2D(96, (3, 3), padding=\"valid\", activation='relu'))\n",
    "model.add(MaxPooling2D(pool_size=(2, 2)))\n",
    "\n",
    "model.add(Conv2D(128, (3, 3), dilation_rate=(2, 2), activation='relu', padding=\"same\"))\n",
    "model.add(Conv2D(128, (3, 3), padding=\"valid\", activation='relu'))\n",
    "model.add(MaxPooling2D(pool_size=(2, 2)))\n",
    "\n",
    "model.add(Flatten())\n",
    "\n",
    "model.add(Dense(64, activation=swish_activation))\n",
    "model.add(Dropout(0.4))\n",
    "model.add(Dense(2 , activation='sigmoid'))\n",
    "\n",
    "model.compile(loss='binary_crossentropy',\n",
    "                  optimizer=RMSprop(lr=0.00005),\n",
    "                  metrics=['accuracy'])\n",
    "\n",
    "print(model.summary())"
   ]
  },
  {
   "cell_type": "code",
   "execution_count": 5,
   "metadata": {},
   "outputs": [
    {
     "name": "stdout",
     "output_type": "stream",
     "text": [
      "Train on 5216 samples, validate on 16 samples\n",
      "Epoch 1/7\n",
      "5184/5216 [============================>.] - ETA: 0s - loss: 0.5762 - accuracy: 0.7417\n",
      "Epoch 00001: val_accuracy improved from -inf to 0.50000, saving model to weights1.hdf5\n",
      "5216/5216 [==============================] - 30s 6ms/sample - loss: 0.5751 - accuracy: 0.7425 - val_loss: 0.9445 - val_accuracy: 0.5000\n",
      "Epoch 2/7\n",
      "5184/5216 [============================>.] - ETA: 0s - loss: 0.3956 - accuracy: 0.8141\n",
      "Epoch 00002: val_accuracy improved from 0.50000 to 0.81250, saving model to weights1.hdf5\n",
      "5216/5216 [==============================] - 9s 2ms/sample - loss: 0.3951 - accuracy: 0.8145 - val_loss: 0.6335 - val_accuracy: 0.8125\n",
      "Epoch 3/7\n",
      "5184/5216 [============================>.] - ETA: 0s - loss: 0.2558 - accuracy: 0.8968\n",
      "Epoch 00003: ReduceLROnPlateau reducing learning rate to 4.999999873689376e-06.\n",
      "\n",
      "Epoch 00003: val_accuracy did not improve from 0.81250\n",
      "5216/5216 [==============================] - 9s 2ms/sample - loss: 0.2548 - accuracy: 0.8974 - val_loss: 0.5437 - val_accuracy: 0.8125\n",
      "Epoch 4/7\n",
      "5152/5216 [============================>.] - ETA: 0s - loss: 0.1932 - accuracy: 0.9252\n",
      "Epoch 00004: ReduceLROnPlateau reducing learning rate to 4.999999873689376e-07.\n",
      "\n",
      "Epoch 00004: val_accuracy did not improve from 0.81250\n",
      "5216/5216 [==============================] - 9s 2ms/sample - loss: 0.1932 - accuracy: 0.9250 - val_loss: 0.5575 - val_accuracy: 0.8125\n",
      "Epoch 5/7\n",
      "5184/5216 [============================>.] - ETA: 0s - loss: 0.1908 - accuracy: 0.9260\n",
      "Epoch 00005: ReduceLROnPlateau reducing learning rate to 4.999999987376214e-08.\n",
      "\n",
      "Epoch 00005: val_accuracy did not improve from 0.81250\n",
      "5216/5216 [==============================] - 9s 2ms/sample - loss: 0.1908 - accuracy: 0.9259 - val_loss: 0.5620 - val_accuracy: 0.7812\n",
      "Epoch 6/7\n",
      "5184/5216 [============================>.] - ETA: 0s - loss: 0.1888 - accuracy: 0.9286\n",
      "Epoch 00006: ReduceLROnPlateau reducing learning rate to 5.000000058430488e-09.\n",
      "\n",
      "Epoch 00006: val_accuracy did not improve from 0.81250\n",
      "5216/5216 [==============================] - 9s 2ms/sample - loss: 0.1883 - accuracy: 0.9291 - val_loss: 0.5602 - val_accuracy: 0.8125\n",
      "Epoch 7/7\n",
      "5184/5216 [============================>.] - ETA: 0s - loss: 0.1899 - accuracy: 0.9277\n",
      "Epoch 00007: ReduceLROnPlateau reducing learning rate to 4.999999969612646e-10.\n",
      "\n",
      "Epoch 00007: val_accuracy did not improve from 0.81250\n",
      "5216/5216 [==============================] - 9s 2ms/sample - loss: 0.1896 - accuracy: 0.9280 - val_loss: 0.5599 - val_accuracy: 0.8125\n"
     ]
    }
   ],
   "source": [
    "history = model.fit(X_train, y_train,validation_data = (X_val , y_val) ,callbacks=[lr_reduce,checkpoint] ,\n",
    "          epochs=7)"
   ]
  },
  {
   "cell_type": "code",
   "execution_count": 7,
   "metadata": {},
   "outputs": [
    {
     "data": {
      "text/plain": [
       "<matplotlib.legend.Legend at 0x1f88ee69ac8>"
      ]
     },
     "execution_count": 7,
     "metadata": {},
     "output_type": "execute_result"
    },
    {
     "data": {
      "image/png": "[encoded data removed]",
      "text/plain": [
       "<Figure size 432x288 with 1 Axes>"
      ]
     },
     "metadata": {
      "needs_background": "light"
     },
     "output_type": "display_data"
    }
   ],
   "source": [
    "import matplotlib.pyplot as plt\n",
    "\n",
    "plt.plot(history.history['accuracy'])\n",
    "plt.plot(history.history['val_accuracy'])\n",
    "plt.title('model accuracy')\n",
    "plt.ylabel('accuracy')\n",
    "plt.xlabel('epoch')\n",
    "plt.legend(['train', 'val'], loc='upper left')"
   ]
  },
  {
   "cell_type": "code",
   "execution_count": 8,
   "metadata": {},
   "outputs": [
    {
     "data": {
      "text/plain": [
       "<matplotlib.legend.Legend at 0x1f88eef5b88>"
      ]
     },
     "execution_count": 8,
     "metadata": {},
     "output_type": "execute_result"
    },
    {
     "data": {
      "image/png": "[encoded data removed]",
      "text/plain": [
       "<Figure size 432x288 with 1 Axes>"
      ]
     },
     "metadata": {
      "needs_background": "light"
     },
     "output_type": "display_data"
    }
   ],
   "source": [
    "\n",
    "# summarize history for loss\n",
    "plt.plot(history.history['loss'])\n",
    "plt.plot(history.history['val_loss'])\n",
    "plt.title('model loss')\n",
    "plt.ylabel('loss')\n",
    "plt.xlabel('epoch')\n",
    "plt.legend(['train', 'val'], loc='upper left')"
   ]
  },
  {
   "cell_type": "code",
   "execution_count": 9,
   "metadata": {},
   "outputs": [],
   "source": [
    "model.load_weights('weights1.hdf5')"
   ]
  },
  {
   "cell_type": "code",
   "execution_count": 10,
   "metadata": {},
   "outputs": [
    {
     "name": "stdout",
     "output_type": "stream",
     "text": [
      "              precision    recall  f1-score   support\n",
      "\n",
      "           0       0.91      0.46      0.61       234\n",
      "           1       0.75      0.97      0.85       390\n",
      "\n",
      "    accuracy                           0.78       624\n",
      "   macro avg       0.83      0.72      0.73       624\n",
      "weighted avg       0.81      0.78      0.76       624\n",
      "\n"
     ]
    }
   ],
   "source": [
    "from sklearn.metrics import classification_report\n",
    "import numpy as np\n",
    "pred = model.predict(X_test)\n",
    "print(classification_report(np.argmax(y_test, axis = 1),np.argmax(pred, axis = 1)))"
   ]
  },
  {
   "cell_type": "code",
   "execution_count": 11,
   "metadata": {},
   "outputs": [
    {
     "data": {
      "image/png": "[encoded data removed]",
      "text/plain": [
       "<Figure size 360x360 with 1 Axes>"
      ]
     },
     "metadata": {
      "needs_background": "light"
     },
     "output_type": "display_data"
    }
   ],
   "source": [
    "from sklearn.metrics import confusion_matrix\n",
    "from mlxtend.plotting import plot_confusion_matrix\n",
    "pred = np.argmax(pred,axis = 1) \n",
    "y_test = np.argmax(y_test,axis = 1)\n",
    "CM = confusion_matrix(y_test, pred)\n",
    "fig, ax = plot_confusion_matrix(conf_mat=CM ,  figsize=(5, 5))\n",
    "plt.show()"
   ]
  },
  {
   "cell_type": "code",
   "execution_count": null,
   "metadata": {},
   "outputs": [],
   "source": []
  }
 ],
 "metadata": {
  "kernelspec": {
   "display_name": "Python 3",
   "language": "python",
   "name": "python3"
  },
  "language_info": {
   "codemirror_mode": {
    "name": "ipython",
    "version": 3
   },
   "file_extension": ".py",
   "mimetype": "text/x-python",
   "name": "python",
   "nbconvert_exporter": "python",
   "pygments_lexer": "ipython3",
   "version": "3.7.4"
  }
 },
 "nbformat": 4,
 "nbformat_minor": 2
}
