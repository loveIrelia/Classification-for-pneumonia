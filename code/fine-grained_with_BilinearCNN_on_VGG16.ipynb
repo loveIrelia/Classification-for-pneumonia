{
 "cells": [
  {
   "cell_type": "code",
   "execution_count": 1,
   "metadata": {},
   "outputs": [],
   "source": [
    "import pickle\n",
    "import tensorflow as tf\n",
    "from tensorflow.keras.callbacks import ReduceLROnPlateau , ModelCheckpoint\n",
    "from tensorflow.keras.models import Sequential,Model\n",
    "from tensorflow.keras.layers import Dense, Activation, Input, Reshape, Lambda, Dropout, Flatten \n",
    "from tensorflow.keras.constraints import max_norm\n",
    "from tensorflow.keras.optimizers import SGD , RMSprop, Adam\n",
    "from tensorflow.keras.layers import Conv2D , BatchNormalization, SeparableConv2D, Input,GlobalAveragePooling2D\n",
    "from tensorflow.keras.layers import MaxPooling2D, GlobalMaxPooling2D\n",
    "from tensorflow.keras import backend as K\n",
    "from tensorflow.keras.regularizers import l2\n",
    "# K.set_image_data_format('channels_first')\n",
    "import matplotlib.pyplot as plt\n",
    "from sklearn.metrics import classification_report\n",
    "import numpy as np\n",
    "from sklearn.metrics import confusion_matrix\n",
    "from mlxtend.plotting import plot_confusion_matrix\n",
    "from tensorflow.keras.applications.inception_v3 import InceptionV3"
   ]
  },
  {
   "cell_type": "code",
   "execution_count": 2,
   "metadata": {},
   "outputs": [],
   "source": [
    "from tensorflow.keras.applications.vgg16 import VGG16\n",
    "def _outer_product(x):\n",
    "    '''Calculate outer-products of two tensors.\n",
    "    Args:\n",
    "        x: a list of two tensors.\n",
    "        Assume that each tensor has shape = (size_minibatch, total_pixels, size_filter)\n",
    "    Returns:\n",
    "        Outer-products of two tensors.\n",
    "    '''\n",
    "    return K.batch_dot(x[0], x[1], axes=[1, 1]) / x[0].get_shape().as_list()[1]\n",
    "\n",
    "def _signed_sqrt(x):\n",
    "    '''Calculate element-wise signed square-root.\n",
    "    Args:\n",
    "        x: input tensor.\n",
    "    Returns:\n",
    "        Element-wise signed square-root tensor.\n",
    "    '''\n",
    "    return K.sign(x) * K.sqrt(K.abs(x) + 1e-9)\n",
    "\n",
    "def _l2_normalize(x, axis=-1):\n",
    "    '''Calculate L2 normalization.\n",
    "    Args:\n",
    "        x: input tensor.\n",
    "        axis: axis for narmalization.\n",
    "    Returns:\n",
    "        L2 normalized tensor.\n",
    "    '''\n",
    "    return K.l2_normalize(x, axis=axis)"
   ]
  },
  {
   "cell_type": "code",
   "execution_count": 3,
   "metadata": {},
   "outputs": [],
   "source": [
    "def buil_bcnn(\n",
    "        size_height=150,\n",
    "        size_width=150,\n",
    "        no_class=2,\n",
    "        no_last_layer_backbone=17,\n",
    "        name_activation='softmax',\n",
    "    ):\n",
    "    # Load model\n",
    "    input_tensor = Input(shape=[size_height, size_width, 3])\n",
    "    pre_train_model = VGG16(\n",
    "        input_tensor=input_tensor,\n",
    "        include_top=False,weights = None)\n",
    "    pre_train_model.load_weights(\"C:\\\\Users\\\\kyrie\\\\.keras\\\\models\\\\vgg16_weights_tf_dim_ordering_tf_kernels_notop.h5\")\n",
    "    # Pre-trained weights\n",
    "    for layer in pre_train_model.layers:\n",
    "        layer.trainable = False\n",
    "\n",
    "\n",
    "    ######################\n",
    "    # Combine two models #\n",
    "    ######################\n",
    "\n",
    "    # Extract features form detecotr\n",
    "    model_detector = pre_train_model\n",
    "    output_detector = model_detector.layers[no_last_layer_backbone].output\n",
    "    shape_detector = model_detector.layers[no_last_layer_backbone].output_shape\n",
    "\n",
    "    # Extract features from extractor\n",
    "    model_extractor = pre_train_model\n",
    "    output_extractor = model_extractor.layers[no_last_layer_backbone].output\n",
    "    shape_extractor = model_extractor.layers[no_last_layer_backbone].output_shape\n",
    "\n",
    "    # Reshape tensor to (minibatch_size, total_pixels, filter_size)\n",
    "    output_detector = Reshape(\n",
    "        [shape_detector[1]*shape_detector[2], shape_detector[-1]])(output_detector)\n",
    "    output_extractor = Reshape(\n",
    "        [shape_extractor[1]*shape_extractor[2], shape_extractor[-1]])(output_extractor)\n",
    "\n",
    "    # Outer-products\n",
    "    x = Lambda(_outer_product)([output_detector, output_extractor])\n",
    "    # Reshape tensor to (minibatch_size, filter_size_detector*filter_size_extractor)\n",
    "    x = Reshape([shape_detector[-1]*shape_extractor[-1]])(x)\n",
    "    # Signed square-root\n",
    "    x = Lambda(_signed_sqrt)(x)\n",
    "    # L2 normalization\n",
    "    x = Lambda(_l2_normalize)(x)\n",
    "\n",
    "\n",
    "    ###############################\n",
    "    # Attach full-connected layer #\n",
    "    ###############################\n",
    "\n",
    "    # FC layer\n",
    "    x = Dense(\n",
    "        units=no_class)(x)\n",
    "    output_tensor = Activation(name_activation)(x)\n",
    "\n",
    "    model_bcnn = Model(inputs=[input_tensor], outputs=[output_tensor])\n",
    "\n",
    "    # Compile\n",
    "    model_bcnn.compile(loss='categorical_crossentropy', optimizer='adam', metrics=['accuracy'])\n",
    "\n",
    "    # print('-------- Mode summary --------')\n",
    "    # print(model_bcnn.summary())\n",
    "    # print('------------------------------')\n",
    "\n",
    "    return model_bcnn"
   ]
  },
  {
   "cell_type": "code",
   "execution_count": 4,
   "metadata": {},
   "outputs": [
    {
     "name": "stdout",
     "output_type": "stream",
     "text": [
      "WARNING:tensorflow:`epsilon` argument is deprecated and will be removed, use `min_delta` instead.\n"
     ]
    }
   ],
   "source": [
    "lr_reduce = ReduceLROnPlateau(monitor='val_accuracy', factor=0.1, epsilon=0.0001, patience=1, verbose=1)\n",
    "filepath=\"BCNN.hdf5\"\n",
    "checkpoint = ModelCheckpoint(filepath, monitor='val_accuracy', verbose=1, save_best_only=True, mode='max')"
   ]
  },
  {
   "cell_type": "code",
   "execution_count": 5,
   "metadata": {},
   "outputs": [
    {
     "name": "stdout",
     "output_type": "stream",
     "text": [
      "Model: \"model\"\n",
      "__________________________________________________________________________________________________\n",
      "Layer (type)                    Output Shape         Param #     Connected to                     \n",
      "==================================================================================================\n",
      "input_1 (InputLayer)            [(None, 150, 150, 3) 0                                            \n",
      "__________________________________________________________________________________________________\n",
      "block1_conv1 (Conv2D)           (None, 150, 150, 64) 1792        input_1[0][0]                    \n",
      "__________________________________________________________________________________________________\n",
      "block1_conv2 (Conv2D)           (None, 150, 150, 64) 36928       block1_conv1[0][0]               \n",
      "__________________________________________________________________________________________________\n",
      "block1_pool (MaxPooling2D)      (None, 75, 75, 64)   0           block1_conv2[0][0]               \n",
      "__________________________________________________________________________________________________\n",
      "block2_conv1 (Conv2D)           (None, 75, 75, 128)  73856       block1_pool[0][0]                \n",
      "__________________________________________________________________________________________________\n",
      "block2_conv2 (Conv2D)           (None, 75, 75, 128)  147584      block2_conv1[0][0]               \n",
      "__________________________________________________________________________________________________\n",
      "block2_pool (MaxPooling2D)      (None, 37, 37, 128)  0           block2_conv2[0][0]               \n",
      "__________________________________________________________________________________________________\n",
      "block3_conv1 (Conv2D)           (None, 37, 37, 256)  295168      block2_pool[0][0]                \n",
      "__________________________________________________________________________________________________\n",
      "block3_conv2 (Conv2D)           (None, 37, 37, 256)  590080      block3_conv1[0][0]               \n",
      "__________________________________________________________________________________________________\n",
      "block3_conv3 (Conv2D)           (None, 37, 37, 256)  590080      block3_conv2[0][0]               \n",
      "__________________________________________________________________________________________________\n",
      "block3_pool (MaxPooling2D)      (None, 18, 18, 256)  0           block3_conv3[0][0]               \n",
      "__________________________________________________________________________________________________\n",
      "block4_conv1 (Conv2D)           (None, 18, 18, 512)  1180160     block3_pool[0][0]                \n",
      "__________________________________________________________________________________________________\n",
      "block4_conv2 (Conv2D)           (None, 18, 18, 512)  2359808     block4_conv1[0][0]               \n",
      "__________________________________________________________________________________________________\n",
      "block4_conv3 (Conv2D)           (None, 18, 18, 512)  2359808     block4_conv2[0][0]               \n",
      "__________________________________________________________________________________________________\n",
      "block4_pool (MaxPooling2D)      (None, 9, 9, 512)    0           block4_conv3[0][0]               \n",
      "__________________________________________________________________________________________________\n",
      "block5_conv1 (Conv2D)           (None, 9, 9, 512)    2359808     block4_pool[0][0]                \n",
      "__________________________________________________________________________________________________\n",
      "block5_conv2 (Conv2D)           (None, 9, 9, 512)    2359808     block5_conv1[0][0]               \n",
      "__________________________________________________________________________________________________\n",
      "block5_conv3 (Conv2D)           (None, 9, 9, 512)    2359808     block5_conv2[0][0]               \n",
      "__________________________________________________________________________________________________\n",
      "reshape (Reshape)               (None, 81, 512)      0           block5_conv3[0][0]               \n",
      "__________________________________________________________________________________________________\n",
      "reshape_1 (Reshape)             (None, 81, 512)      0           block5_conv3[0][0]               \n",
      "__________________________________________________________________________________________________\n",
      "lambda (Lambda)                 (None, 512, 512)     0           reshape[0][0]                    \n",
      "                                                                 reshape_1[0][0]                  \n",
      "__________________________________________________________________________________________________\n",
      "reshape_2 (Reshape)             (None, 262144)       0           lambda[0][0]                     \n",
      "__________________________________________________________________________________________________\n",
      "lambda_1 (Lambda)               (None, 262144)       0           reshape_2[0][0]                  \n",
      "__________________________________________________________________________________________________\n",
      "lambda_2 (Lambda)               (None, 262144)       0           lambda_1[0][0]                   \n",
      "__________________________________________________________________________________________________\n",
      "dense (Dense)                   (None, 2)            524290      lambda_2[0][0]                   \n",
      "__________________________________________________________________________________________________\n",
      "activation (Activation)         (None, 2)            0           dense[0][0]                      \n",
      "==================================================================================================\n",
      "Total params: 15,238,978\n",
      "Trainable params: 524,290\n",
      "Non-trainable params: 14,714,688\n",
      "__________________________________________________________________________________________________\n"
     ]
    }
   ],
   "source": [
    "BCNN = buil_bcnn()\n",
    "BCNN.summary()"
   ]
  },
  {
   "cell_type": "code",
   "execution_count": 6,
   "metadata": {},
   "outputs": [],
   "source": [
    "with open('X_train_1.pkl', 'rb') as file:\n",
    "    X_train =pickle.load(file)\n",
    "with open('X_test_1.pkl', 'rb') as file:\n",
    "    X_test =pickle.load(file)\n",
    "    \n",
    "with open('y_train_1.pkl', 'rb') as file:\n",
    "    y_train =pickle.load(file)\n",
    "    \n",
    "with open('y_test_1.pkl', 'rb') as file:\n",
    "    y_test =pickle.load(file)\n",
    "\n",
    "y_train = tf.one_hot(y_train, 2)\n",
    "y_test = tf.one_hot(y_test, 2)"
   ]
  },
  {
   "cell_type": "code",
   "execution_count": 7,
   "metadata": {},
   "outputs": [
    {
     "name": "stdout",
     "output_type": "stream",
     "text": [
      "Train on 3100 samples, validate on 775 samples\n",
      "Epoch 1/7\n",
      "3072/3100 [============================>.] - ETA: 0s - loss: 0.5914 - accuracy: 0.6914\n",
      "Epoch 00001: val_accuracy improved from -inf to 0.66065, saving model to BCNN.hdf5\n",
      "3100/3100 [==============================] - 28s 9ms/sample - loss: 0.5905 - accuracy: 0.6923 - val_loss: 0.6037 - val_accuracy: 0.6606\n",
      "Epoch 2/7\n",
      "3072/3100 [============================>.] - ETA: 0s - loss: 0.5394 - accuracy: 0.7458\n",
      "Epoch 00002: val_accuracy improved from 0.66065 to 0.68387, saving model to BCNN.hdf5\n",
      "3100/3100 [==============================] - 13s 4ms/sample - loss: 0.5385 - accuracy: 0.7465 - val_loss: 0.5944 - val_accuracy: 0.6839\n",
      "Epoch 3/7\n",
      "3072/3100 [============================>.] - ETA: 0s - loss: 0.5241 - accuracy: 0.7507\n",
      "Epoch 00003: val_accuracy improved from 0.68387 to 0.74581, saving model to BCNN.hdf5\n",
      "3100/3100 [==============================] - 13s 4ms/sample - loss: 0.5245 - accuracy: 0.7510 - val_loss: 0.5332 - val_accuracy: 0.7458\n",
      "Epoch 4/7\n",
      "3072/3100 [============================>.] - ETA: 0s - loss: 0.5111 - accuracy: 0.7660\n",
      "Epoch 00004: ReduceLROnPlateau reducing learning rate to 0.00010000000474974513.\n",
      "\n",
      "Epoch 00004: val_accuracy did not improve from 0.74581\n",
      "3100/3100 [==============================] - 13s 4ms/sample - loss: 0.5102 - accuracy: 0.7658 - val_loss: 0.5799 - val_accuracy: 0.7019\n",
      "Epoch 5/7\n",
      "3072/3100 [============================>.] - ETA: 0s - loss: 0.4998 - accuracy: 0.7708\n",
      "Epoch 00005: ReduceLROnPlateau reducing learning rate to 1.0000000474974514e-05.\n",
      "\n",
      "Epoch 00005: val_accuracy did not improve from 0.74581\n",
      "3100/3100 [==============================] - 13s 4ms/sample - loss: 0.4990 - accuracy: 0.7713 - val_loss: 0.5422 - val_accuracy: 0.7381\n",
      "Epoch 6/7\n",
      "3072/3100 [============================>.] - ETA: 0s - loss: 0.4980 - accuracy: 0.7738\n",
      "Epoch 00006: ReduceLROnPlateau reducing learning rate to 1.0000000656873453e-06.\n",
      "\n",
      "Epoch 00006: val_accuracy did not improve from 0.74581\n",
      "3100/3100 [==============================] - 13s 4ms/sample - loss: 0.4980 - accuracy: 0.7742 - val_loss: 0.5444 - val_accuracy: 0.7355\n",
      "Epoch 7/7\n",
      "3072/3100 [============================>.] - ETA: 0s - loss: 0.4969 - accuracy: 0.7754\n",
      "Epoch 00007: ReduceLROnPlateau reducing learning rate to 1.0000001111620805e-07.\n",
      "\n",
      "Epoch 00007: val_accuracy did not improve from 0.74581\n",
      "3100/3100 [==============================] - 13s 4ms/sample - loss: 0.4978 - accuracy: 0.7745 - val_loss: 0.5447 - val_accuracy: 0.7355\n"
     ]
    }
   ],
   "source": [
    "history = BCNN.fit(X_train, y_train,validation_split=0.2 ,callbacks=[lr_reduce,checkpoint] ,\n",
    "          epochs=7)"
   ]
  },
  {
   "cell_type": "code",
   "execution_count": 8,
   "metadata": {},
   "outputs": [
    {
     "data": {
      "image/png": "[encoded data removed]",
      "text/plain": [
       "<Figure size 360x360 with 1 Axes>"
      ]
     },
     "metadata": {
      "needs_background": "light"
     },
     "output_type": "display_data"
    }
   ],
   "source": [
    "pred = BCNN.predict(X_test)\n",
    "pred1 = np.argmax(pred,axis = 1) \n",
    "y_test1 = np.argmax(y_test,axis = 1)\n",
    "CM = confusion_matrix(y_test1, pred1)\n",
    "fig, ax = plot_confusion_matrix(conf_mat=CM ,  figsize=(5, 5))\n",
    "plt.show()"
   ]
  },
  {
   "cell_type": "code",
   "execution_count": 9,
   "metadata": {},
   "outputs": [
    {
     "data": {
      "text/plain": [
       "<matplotlib.legend.Legend at 0x25e7620dbc8>"
      ]
     },
     "execution_count": 9,
     "metadata": {},
     "output_type": "execute_result"
    },
    {
     "data": {
      "image/png": "[encoded data removed]",
      "text/plain": [
       "<Figure size 432x288 with 1 Axes>"
      ]
     },
     "metadata": {
      "needs_background": "light"
     },
     "output_type": "display_data"
    }
   ],
   "source": [
    "plt.plot(history.history['accuracy'])\n",
    "plt.plot(history.history['val_accuracy'])\n",
    "plt.title('model accuracy')\n",
    "plt.ylabel('accuracy')\n",
    "plt.xlabel('epoch')\n",
    "plt.legend(['train', 'val'])"
   ]
  },
  {
   "cell_type": "code",
   "execution_count": 10,
   "metadata": {},
   "outputs": [
    {
     "data": {
      "text/plain": [
       "<matplotlib.legend.Legend at 0x25e76280948>"
      ]
     },
     "execution_count": 10,
     "metadata": {},
     "output_type": "execute_result"
    },
    {
     "data": {
      "image/png": "[encoded data removed]",
      "text/plain": [
       "<Figure size 432x288 with 1 Axes>"
      ]
     },
     "metadata": {
      "needs_background": "light"
     },
     "output_type": "display_data"
    }
   ],
   "source": [
    "plt.plot(history.history['loss'])\n",
    "plt.plot(history.history['val_loss'])\n",
    "plt.title('model loss')\n",
    "plt.ylabel('loss')\n",
    "plt.xlabel('epoch')\n",
    "plt.legend(['train', 'val'])"
   ]
  },
  {
   "cell_type": "code",
   "execution_count": 11,
   "metadata": {},
   "outputs": [
    {
     "name": "stdout",
     "output_type": "stream",
     "text": [
      "              precision    recall  f1-score   support\n",
      "\n",
      "           0       0.81      0.99      0.89       242\n",
      "           1       0.97      0.62      0.76       148\n",
      "\n",
      "    accuracy                           0.85       390\n",
      "   macro avg       0.89      0.80      0.82       390\n",
      "weighted avg       0.87      0.85      0.84       390\n",
      "\n"
     ]
    }
   ],
   "source": [
    "print(classification_report(y_test1,pred1))"
   ]
  },
  {
   "cell_type": "code",
   "execution_count": null,
   "metadata": {},
   "outputs": [],
   "source": []
  }
 ],
 "metadata": {
  "kernelspec": {
   "display_name": "Python 3",
   "language": "python",
   "name": "python3"
  },
  "language_info": {
   "codemirror_mode": {
    "name": "ipython",
    "version": 3
   },
   "file_extension": ".py",
   "mimetype": "text/x-python",
   "name": "python",
   "nbconvert_exporter": "python",
   "pygments_lexer": "ipython3",
   "version": "3.7.4"
  }
 },
 "nbformat": 4,
 "nbformat_minor": 2
}
