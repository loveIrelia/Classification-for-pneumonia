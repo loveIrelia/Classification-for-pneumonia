{
 "cells": [
  {
   "cell_type": "code",
   "execution_count": 6,
   "metadata": {},
   "outputs": [],
   "source": [
    "import pickle\n",
    "import tensorflow as tf\n",
    "from tensorflow.keras.callbacks import ReduceLROnPlateau , ModelCheckpoint\n",
    "from tensorflow.keras.models import Sequential,Model\n",
    "from tensorflow.keras.layers import Dense , Activation\n",
    "from tensorflow.keras.layers import Dropout\n",
    "from tensorflow.keras.layers import Flatten\n",
    "from tensorflow.keras.constraints import max_norm\n",
    "from tensorflow.keras.optimizers import SGD , RMSprop, Adam\n",
    "from tensorflow.keras.layers import Conv2D , BatchNormalization, SeparableConv2D, Input,GlobalAveragePooling2D\n",
    "from tensorflow.keras.layers import MaxPooling2D, GlobalMaxPooling2D\n",
    "from tensorflow.keras import backend as K\n",
    "from sklearn.model_selection import GridSearchCV\n",
    "from tensorflow.keras.wrappers.scikit_learn import KerasClassifier\n",
    "K.set_image_data_format('channels_first')\n",
    "import matplotlib.pyplot as plt\n",
    "from sklearn.metrics import classification_report\n",
    "import numpy as np\n",
    "from sklearn.metrics import confusion_matrix\n",
    "from mlxtend.plotting import plot_confusion_matrix"
   ]
  },
  {
   "cell_type": "code",
   "execution_count": 2,
   "metadata": {},
   "outputs": [],
   "source": [
    "with open('X_train_1.pkl', 'rb') as file:\n",
    "    X_train =pickle.load(file)\n",
    "with open('X_test_1.pkl', 'rb') as file:\n",
    "    X_test =pickle.load(file)\n",
    "    \n",
    "with open('y_train_1.pkl', 'rb') as file:\n",
    "    y_train =pickle.load(file)\n",
    "    \n",
    "with open('y_test_1.pkl', 'rb') as file:\n",
    "    y_test =pickle.load(file)\n",
    "\n",
    "y_train = tf.one_hot(y_train, 2)\n",
    "y_test = tf.one_hot(y_test, 2)"
   ]
  },
  {
   "cell_type": "code",
   "execution_count": 7,
   "metadata": {},
   "outputs": [],
   "source": [
    "X_train=X_train.reshape(3875,3,150,150)\n",
    "X_test=X_test.reshape(390,3,150,150)"
   ]
  },
  {
   "cell_type": "code",
   "execution_count": 8,
   "metadata": {},
   "outputs": [
    {
     "name": "stdout",
     "output_type": "stream",
     "text": [
      "WARNING:tensorflow:`epsilon` argument is deprecated and will be removed, use `min_delta` instead.\n"
     ]
    }
   ],
   "source": [
    "lr_reduce = ReduceLROnPlateau(monitor='val_accuracy', factor=0.1, epsilon=0.0001, patience=1, verbose=1)\n",
    "filepath=\"BCNN2.hdf5\"\n",
    "checkpoint = ModelCheckpoint(filepath, monitor='val_accuracy', verbose=1, save_best_only=True, mode='max')"
   ]
  },
  {
   "cell_type": "code",
   "execution_count": 9,
   "metadata": {},
   "outputs": [
    {
     "name": "stdout",
     "output_type": "stream",
     "text": [
      "Model: \"sequential_2\"\n",
      "_________________________________________________________________\n",
      "Layer (type)                 Output Shape              Param #   \n",
      "=================================================================\n",
      "conv2d_8 (Conv2D)            (None, 16, 150, 150)      448       \n",
      "_________________________________________________________________\n",
      "conv2d_9 (Conv2D)            (None, 16, 150, 150)      2320      \n",
      "_________________________________________________________________\n",
      "max_pooling2d_4 (MaxPooling2 (None, 16, 75, 75)        0         \n",
      "_________________________________________________________________\n",
      "conv2d_10 (Conv2D)           (None, 32, 75, 75)        4640      \n",
      "_________________________________________________________________\n",
      "conv2d_11 (Conv2D)           (None, 32, 75, 75)        9248      \n",
      "_________________________________________________________________\n",
      "max_pooling2d_5 (MaxPooling2 (None, 32, 37, 37)        0         \n",
      "_________________________________________________________________\n",
      "conv2d_12 (Conv2D)           (None, 64, 37, 37)        18496     \n",
      "_________________________________________________________________\n",
      "conv2d_13 (Conv2D)           (None, 64, 37, 37)        36928     \n",
      "_________________________________________________________________\n",
      "max_pooling2d_6 (MaxPooling2 (None, 64, 18, 18)        0         \n",
      "_________________________________________________________________\n",
      "conv2d_14 (Conv2D)           (None, 96, 18, 18)        55392     \n",
      "_________________________________________________________________\n",
      "conv2d_15 (Conv2D)           (None, 96, 16, 16)        83040     \n",
      "_________________________________________________________________\n",
      "max_pooling2d_7 (MaxPooling2 (None, 96, 8, 8)          0         \n",
      "_________________________________________________________________\n",
      "conv2d_16 (Conv2D)           (None, 128, 8, 8)         110720    \n",
      "_________________________________________________________________\n",
      "conv2d_17 (Conv2D)           (None, 128, 6, 6)         147584    \n",
      "_________________________________________________________________\n",
      "max_pooling2d_8 (MaxPooling2 (None, 128, 3, 3)         0         \n",
      "_________________________________________________________________\n",
      "flatten (Flatten)            (None, 1152)              0         \n",
      "_________________________________________________________________\n",
      "dense (Dense)                (None, 64)                73792     \n",
      "_________________________________________________________________\n",
      "dropout (Dropout)            (None, 64)                0         \n",
      "_________________________________________________________________\n",
      "dense_1 (Dense)              (None, 2)                 130       \n",
      "=================================================================\n",
      "Total params: 542,738\n",
      "Trainable params: 542,738\n",
      "Non-trainable params: 0\n",
      "_________________________________________________________________\n",
      "None\n"
     ]
    }
   ],
   "source": [
    "def swish_activation(x):\n",
    "    return (K.sigmoid(x) * x)\n",
    "\n",
    "model = Sequential()\n",
    "model.add(Conv2D(16, (3, 3), activation='relu', padding=\"same\", input_shape=(3,150,150)))\n",
    "model.add(Conv2D(16, (3, 3), padding=\"same\", activation='relu'))\n",
    "model.add(MaxPooling2D(pool_size=(2, 2)))\n",
    "\n",
    "model.add(Conv2D(32, (3, 3), activation='relu', padding=\"same\"))\n",
    "model.add(Conv2D(32, (3, 3), padding=\"same\", activation='relu'))\n",
    "model.add(MaxPooling2D(pool_size=(2, 2)))\n",
    "\n",
    "model.add(Conv2D(64, (3, 3), activation='relu', padding=\"same\"))\n",
    "model.add(Conv2D(64, (3, 3), padding=\"same\", activation='relu'))\n",
    "model.add(MaxPooling2D(pool_size=(2, 2)))\n",
    "\n",
    "model.add(Conv2D(96, (3, 3), dilation_rate=(2, 2), activation='relu', padding=\"same\"))\n",
    "model.add(Conv2D(96, (3, 3), padding=\"valid\", activation='relu'))\n",
    "model.add(MaxPooling2D(pool_size=(2, 2)))\n",
    "\n",
    "model.add(Conv2D(128, (3, 3), dilation_rate=(2, 2), activation='relu', padding=\"same\"))\n",
    "model.add(Conv2D(128, (3, 3), padding=\"valid\", activation='relu'))\n",
    "model.add(MaxPooling2D(pool_size=(2, 2)))\n",
    "\n",
    "model.add(Flatten())\n",
    "\n",
    "model.add(Dense(64, activation=swish_activation))\n",
    "model.add(Dropout(0.4))\n",
    "model.add(Dense(2 , activation='sigmoid'))\n",
    "\n",
    "model.compile(loss='binary_crossentropy',\n",
    "                  optimizer='adam',\n",
    "                  metrics=['accuracy'])\n",
    "\n",
    "print(model.summary())"
   ]
  },
  {
   "cell_type": "code",
   "execution_count": 10,
   "metadata": {},
   "outputs": [
    {
     "name": "stdout",
     "output_type": "stream",
     "text": [
      "Train on 3100 samples, validate on 775 samples\n",
      "Epoch 1/7\n",
      "3072/3100 [============================>.] - ETA: 0s - loss: 0.6451 - accuracy: 0.6704\n",
      "Epoch 00001: val_accuracy improved from -inf to 0.58065, saving model to BCNN2.hdf5\n",
      "3100/3100 [==============================] - 21s 7ms/sample - loss: 0.6443 - accuracy: 0.6711 - val_loss: 0.6980 - val_accuracy: 0.5806\n",
      "Epoch 2/7\n",
      "3040/3100 [============================>.] - ETA: 0s - loss: 0.5902 - accuracy: 0.7087\n",
      "Epoch 00002: val_accuracy improved from 0.58065 to 0.69355, saving model to BCNN2.hdf5\n",
      "3100/3100 [==============================] - 6s 2ms/sample - loss: 0.5894 - accuracy: 0.7097 - val_loss: 0.6103 - val_accuracy: 0.6935\n",
      "Epoch 3/7\n",
      "3072/3100 [============================>.] - ETA: 0s - loss: 0.5794 - accuracy: 0.7235\n",
      "Epoch 00003: ReduceLROnPlateau reducing learning rate to 0.00010000000474974513.\n",
      "\n",
      "Epoch 00003: val_accuracy did not improve from 0.69355\n",
      "3100/3100 [==============================] - 6s 2ms/sample - loss: 0.5799 - accuracy: 0.7229 - val_loss: 0.6325 - val_accuracy: 0.6652\n",
      "Epoch 4/7\n",
      "3040/3100 [============================>.] - ETA: 0s - loss: 0.5592 - accuracy: 0.7340\n",
      "Epoch 00004: val_accuracy improved from 0.69355 to 0.70903, saving model to BCNN2.hdf5\n",
      "3100/3100 [==============================] - 6s 2ms/sample - loss: 0.5611 - accuracy: 0.7326 - val_loss: 0.6177 - val_accuracy: 0.7090\n",
      "Epoch 5/7\n",
      "3072/3100 [============================>.] - ETA: 0s - loss: 0.5532 - accuracy: 0.7417\n",
      "Epoch 00005: val_accuracy improved from 0.70903 to 0.72258, saving model to BCNN2.hdf5\n",
      "3100/3100 [==============================] - 6s 2ms/sample - loss: 0.5545 - accuracy: 0.7403 - val_loss: 0.6019 - val_accuracy: 0.7226\n",
      "Epoch 6/7\n",
      "3072/3100 [============================>.] - ETA: 0s - loss: 0.5478 - accuracy: 0.7454\n",
      "Epoch 00006: ReduceLROnPlateau reducing learning rate to 1.0000000474974514e-05.\n",
      "\n",
      "Epoch 00006: val_accuracy did not improve from 0.72258\n",
      "3100/3100 [==============================] - 6s 2ms/sample - loss: 0.5484 - accuracy: 0.7444 - val_loss: 0.6036 - val_accuracy: 0.7103\n",
      "Epoch 7/7\n",
      "3040/3100 [============================>.] - ETA: 0s - loss: 0.5446 - accuracy: 0.7459\n",
      "Epoch 00007: ReduceLROnPlateau reducing learning rate to 1.0000000656873453e-06.\n",
      "\n",
      "Epoch 00007: val_accuracy did not improve from 0.72258\n",
      "3100/3100 [==============================] - 6s 2ms/sample - loss: 0.5443 - accuracy: 0.7463 - val_loss: 0.6014 - val_accuracy: 0.7123\n"
     ]
    }
   ],
   "source": [
    "history = model.fit(X_train, y_train,validation_split=0.2 ,callbacks=[lr_reduce,checkpoint] ,\n",
    "          epochs=7)"
   ]
  },
  {
   "cell_type": "code",
   "execution_count": 12,
   "metadata": {},
   "outputs": [
    {
     "data": {
      "image/png": "[encoded data removed]",
      "text/plain": [
       "<Figure size 360x360 with 1 Axes>"
      ]
     },
     "metadata": {
      "needs_background": "light"
     },
     "output_type": "display_data"
    }
   ],
   "source": [
    "pred = model.predict(X_test)\n",
    "pred1 = np.argmax(pred,axis = 1) \n",
    "y_test1 = np.argmax(y_test,axis = 1)\n",
    "CM = confusion_matrix(y_test1, pred1)\n",
    "fig, ax = plot_confusion_matrix(conf_mat=CM ,  figsize=(5, 5))\n",
    "plt.show()"
   ]
  },
  {
   "cell_type": "code",
   "execution_count": 13,
   "metadata": {},
   "outputs": [
    {
     "data": {
      "text/plain": [
       "<matplotlib.legend.Legend at 0x237f2385448>"
      ]
     },
     "execution_count": 13,
     "metadata": {},
     "output_type": "execute_result"
    },
    {
     "data": {
      "image/png": "[encoded data removed]",
      "text/plain": [
       "<Figure size 432x288 with 1 Axes>"
      ]
     },
     "metadata": {
      "needs_background": "light"
     },
     "output_type": "display_data"
    }
   ],
   "source": [
    "plt.plot(history.history['accuracy'])\n",
    "plt.plot(history.history['val_accuracy'])\n",
    "plt.title('model accuracy')\n",
    "plt.ylabel('accuracy')\n",
    "plt.xlabel('epoch')\n",
    "plt.legend(['train', 'val'])"
   ]
  },
  {
   "cell_type": "code",
   "execution_count": 14,
   "metadata": {},
   "outputs": [
    {
     "data": {
      "text/plain": [
       "<matplotlib.legend.Legend at 0x237f23ac208>"
      ]
     },
     "execution_count": 14,
     "metadata": {},
     "output_type": "execute_result"
    },
    {
     "data": {
      "image/png": "[encoded data removed]",
      "text/plain": [
       "<Figure size 432x288 with 1 Axes>"
      ]
     },
     "metadata": {
      "needs_background": "light"
     },
     "output_type": "display_data"
    }
   ],
   "source": [
    "plt.plot(history.history['loss'])\n",
    "plt.plot(history.history['val_loss'])\n",
    "plt.title('model loss')\n",
    "plt.ylabel('loss')\n",
    "plt.xlabel('epoch')\n",
    "plt.legend(['train', 'val'])"
   ]
  },
  {
   "cell_type": "code",
   "execution_count": 15,
   "metadata": {},
   "outputs": [
    {
     "name": "stdout",
     "output_type": "stream",
     "text": [
      "              precision    recall  f1-score   support\n",
      "\n",
      "           0       0.81      0.95      0.88       242\n",
      "           1       0.90      0.64      0.75       148\n",
      "\n",
      "    accuracy                           0.84       390\n",
      "   macro avg       0.85      0.80      0.81       390\n",
      "weighted avg       0.84      0.84      0.83       390\n",
      "\n"
     ]
    }
   ],
   "source": [
    "print(classification_report(y_test1,pred1))"
   ]
  },
  {
   "cell_type": "code",
   "execution_count": null,
   "metadata": {},
   "outputs": [],
   "source": []
  }
 ],
 "metadata": {
  "kernelspec": {
   "display_name": "Python 3",
   "language": "python",
   "name": "python3"
  },
  "language_info": {
   "codemirror_mode": {
    "name": "ipython",
    "version": 3
   },
   "file_extension": ".py",
   "mimetype": "text/x-python",
   "name": "python",
   "nbconvert_exporter": "python",
   "pygments_lexer": "ipython3",
   "version": "3.7.4"
  }
 },
 "nbformat": 4,
 "nbformat_minor": 2
}
