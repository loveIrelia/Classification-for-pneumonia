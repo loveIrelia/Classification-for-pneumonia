{
 "cells": [
  {
   "cell_type": "code",
   "execution_count": 1,
   "metadata": {},
   "outputs": [],
   "source": [
    "import pickle\n",
    "import tensorflow as tf\n",
    "from tensorflow.keras.callbacks import ReduceLROnPlateau , ModelCheckpoint\n",
    "from tensorflow.keras.models import Sequential,Model\n",
    "from tensorflow.keras.layers import Dense, Activation, Input, Reshape, Lambda, Dropout, Flatten \n",
    "from tensorflow.keras.constraints import max_norm\n",
    "from tensorflow.keras.optimizers import SGD , RMSprop, Adam\n",
    "from tensorflow.keras.layers import Conv2D , BatchNormalization, SeparableConv2D, Input,GlobalAveragePooling2D\n",
    "from tensorflow.keras.layers import MaxPooling2D, GlobalMaxPooling2D\n",
    "from tensorflow.keras import backend as K\n",
    "from tensorflow.keras.regularizers import l2\n",
    "# K.set_image_data_format('channels_first')\n",
    "import matplotlib.pyplot as plt\n",
    "from sklearn.metrics import classification_report\n",
    "import numpy as np\n",
    "from sklearn.metrics import confusion_matrix\n",
    "from mlxtend.plotting import plot_confusion_matrix\n",
    "from tensorflow.keras.applications.inception_v3 import InceptionV3\n",
    "from tensorflow.keras.applications.vgg16 import VGG16"
   ]
  },
  {
   "cell_type": "markdown",
   "metadata": {},
   "source": [
    "# BCNN"
   ]
  },
  {
   "cell_type": "code",
   "execution_count": 2,
   "metadata": {},
   "outputs": [],
   "source": [
    "def _outer_product(x):\n",
    "    '''Calculate outer-products of two tensors.\n",
    "    Args:\n",
    "        x: a list of two tensors.\n",
    "        Assume that each tensor has shape = (size_minibatch, total_pixels, size_filter)\n",
    "    Returns:\n",
    "        Outer-products of two tensors.\n",
    "    '''\n",
    "    return K.batch_dot(x[0], x[1], axes=[1, 1]) / x[0].get_shape().as_list()[1]\n",
    "\n",
    "def _signed_sqrt(x):\n",
    "    '''Calculate element-wise signed square-root.\n",
    "    Args:\n",
    "        x: input tensor.\n",
    "    Returns:\n",
    "        Element-wise signed square-root tensor.\n",
    "    '''\n",
    "    return K.sign(x) * K.sqrt(K.abs(x) + 1e-9)\n",
    "\n",
    "def _l2_normalize(x, axis=-1):\n",
    "    '''Calculate L2 normalization.\n",
    "    Args:\n",
    "        x: input tensor.\n",
    "        axis: axis for narmalization.\n",
    "    Returns:\n",
    "        L2 normalized tensor.\n",
    "    '''\n",
    "    return K.l2_normalize(x, axis=axis)\n",
    "def buil_bcnn(\n",
    "        size_height=150,\n",
    "        size_width=150,\n",
    "        no_class=2,\n",
    "        no_last_layer_backbone=17,\n",
    "        name_activation='softmax',\n",
    "    ):\n",
    "    # Load model\n",
    "    input_tensor = Input(shape=[size_height, size_width, 3])\n",
    "    pre_train_model = VGG16(\n",
    "        input_tensor=input_tensor,\n",
    "        include_top=False,weights = None)\n",
    "    pre_train_model.load_weights(\"C:\\\\Users\\\\kyrie\\\\.keras\\\\models\\\\vgg16_weights_tf_dim_ordering_tf_kernels_notop.h5\")\n",
    "    # Pre-trained weights\n",
    "    for layer in pre_train_model.layers:\n",
    "        layer.trainable = False\n",
    "\n",
    "\n",
    "    ######################\n",
    "    # Combine two models #\n",
    "    ######################\n",
    "\n",
    "    # Extract features form detecotr\n",
    "    model_detector = pre_train_model\n",
    "    output_detector = model_detector.layers[no_last_layer_backbone].output\n",
    "    shape_detector = model_detector.layers[no_last_layer_backbone].output_shape\n",
    "\n",
    "    # Extract features from extractor\n",
    "    model_extractor = pre_train_model\n",
    "    output_extractor = model_extractor.layers[no_last_layer_backbone].output\n",
    "    shape_extractor = model_extractor.layers[no_last_layer_backbone].output_shape\n",
    "\n",
    "    # Reshape tensor to (minibatch_size, total_pixels, filter_size)\n",
    "    output_detector = Reshape(\n",
    "        [shape_detector[1]*shape_detector[2], shape_detector[-1]])(output_detector)\n",
    "    output_extractor = Reshape(\n",
    "        [shape_extractor[1]*shape_extractor[2], shape_extractor[-1]])(output_extractor)\n",
    "\n",
    "    # Outer-products\n",
    "    x = Lambda(_outer_product)([output_detector, output_extractor])\n",
    "    # Reshape tensor to (minibatch_size, filter_size_detector*filter_size_extractor)\n",
    "    x = Reshape([shape_detector[-1]*shape_extractor[-1]])(x)\n",
    "    # Signed square-root\n",
    "    x = Lambda(_signed_sqrt)(x)\n",
    "    # L2 normalization\n",
    "    x = Lambda(_l2_normalize)(x)\n",
    "\n",
    "\n",
    "    ###############################\n",
    "    # Attach full-connected layer #\n",
    "    ###############################\n",
    "\n",
    "    # FC layer\n",
    "    x = Dense(\n",
    "        units=no_class)(x)\n",
    "    output_tensor = Activation(name_activation)(x)\n",
    "\n",
    "    model_bcnn = Model(inputs=[input_tensor], outputs=[output_tensor])\n",
    "\n",
    "    # Compile\n",
    "    model_bcnn.compile(loss='categorical_crossentropy', optimizer='adam', metrics=['accuracy'])\n",
    "\n",
    "    # print('-------- Mode summary --------')\n",
    "    # print(model_bcnn.summary())\n",
    "    # print('------------------------------')\n",
    "\n",
    "    return model_bcnn"
   ]
  },
  {
   "cell_type": "code",
   "execution_count": 3,
   "metadata": {},
   "outputs": [
    {
     "name": "stdout",
     "output_type": "stream",
     "text": [
      "Model: \"model\"\n",
      "__________________________________________________________________________________________________\n",
      "Layer (type)                    Output Shape         Param #     Connected to                     \n",
      "==================================================================================================\n",
      "input_1 (InputLayer)            [(None, 150, 150, 3) 0                                            \n",
      "__________________________________________________________________________________________________\n",
      "block1_conv1 (Conv2D)           (None, 150, 150, 64) 1792        input_1[0][0]                    \n",
      "__________________________________________________________________________________________________\n",
      "block1_conv2 (Conv2D)           (None, 150, 150, 64) 36928       block1_conv1[0][0]               \n",
      "__________________________________________________________________________________________________\n",
      "block1_pool (MaxPooling2D)      (None, 75, 75, 64)   0           block1_conv2[0][0]               \n",
      "__________________________________________________________________________________________________\n",
      "block2_conv1 (Conv2D)           (None, 75, 75, 128)  73856       block1_pool[0][0]                \n",
      "__________________________________________________________________________________________________\n",
      "block2_conv2 (Conv2D)           (None, 75, 75, 128)  147584      block2_conv1[0][0]               \n",
      "__________________________________________________________________________________________________\n",
      "block2_pool (MaxPooling2D)      (None, 37, 37, 128)  0           block2_conv2[0][0]               \n",
      "__________________________________________________________________________________________________\n",
      "block3_conv1 (Conv2D)           (None, 37, 37, 256)  295168      block2_pool[0][0]                \n",
      "__________________________________________________________________________________________________\n",
      "block3_conv2 (Conv2D)           (None, 37, 37, 256)  590080      block3_conv1[0][0]               \n",
      "__________________________________________________________________________________________________\n",
      "block3_conv3 (Conv2D)           (None, 37, 37, 256)  590080      block3_conv2[0][0]               \n",
      "__________________________________________________________________________________________________\n",
      "block3_pool (MaxPooling2D)      (None, 18, 18, 256)  0           block3_conv3[0][0]               \n",
      "__________________________________________________________________________________________________\n",
      "block4_conv1 (Conv2D)           (None, 18, 18, 512)  1180160     block3_pool[0][0]                \n",
      "__________________________________________________________________________________________________\n",
      "block4_conv2 (Conv2D)           (None, 18, 18, 512)  2359808     block4_conv1[0][0]               \n",
      "__________________________________________________________________________________________________\n",
      "block4_conv3 (Conv2D)           (None, 18, 18, 512)  2359808     block4_conv2[0][0]               \n",
      "__________________________________________________________________________________________________\n",
      "block4_pool (MaxPooling2D)      (None, 9, 9, 512)    0           block4_conv3[0][0]               \n",
      "__________________________________________________________________________________________________\n",
      "block5_conv1 (Conv2D)           (None, 9, 9, 512)    2359808     block4_pool[0][0]                \n",
      "__________________________________________________________________________________________________\n",
      "block5_conv2 (Conv2D)           (None, 9, 9, 512)    2359808     block5_conv1[0][0]               \n",
      "__________________________________________________________________________________________________\n",
      "block5_conv3 (Conv2D)           (None, 9, 9, 512)    2359808     block5_conv2[0][0]               \n",
      "__________________________________________________________________________________________________\n",
      "reshape (Reshape)               (None, 81, 512)      0           block5_conv3[0][0]               \n",
      "__________________________________________________________________________________________________\n",
      "reshape_1 (Reshape)             (None, 81, 512)      0           block5_conv3[0][0]               \n",
      "__________________________________________________________________________________________________\n",
      "lambda (Lambda)                 (None, 512, 512)     0           reshape[0][0]                    \n",
      "                                                                 reshape_1[0][0]                  \n",
      "__________________________________________________________________________________________________\n",
      "reshape_2 (Reshape)             (None, 262144)       0           lambda[0][0]                     \n",
      "__________________________________________________________________________________________________\n",
      "lambda_1 (Lambda)               (None, 262144)       0           reshape_2[0][0]                  \n",
      "__________________________________________________________________________________________________\n",
      "lambda_2 (Lambda)               (None, 262144)       0           lambda_1[0][0]                   \n",
      "__________________________________________________________________________________________________\n",
      "dense (Dense)                   (None, 2)            524290      lambda_2[0][0]                   \n",
      "__________________________________________________________________________________________________\n",
      "activation (Activation)         (None, 2)            0           dense[0][0]                      \n",
      "==================================================================================================\n",
      "Total params: 15,238,978\n",
      "Trainable params: 524,290\n",
      "Non-trainable params: 14,714,688\n",
      "__________________________________________________________________________________________________\n"
     ]
    }
   ],
   "source": [
    "BCNN = buil_bcnn()\n",
    "BCNN.summary()"
   ]
  },
  {
   "cell_type": "code",
   "execution_count": 4,
   "metadata": {},
   "outputs": [],
   "source": [
    "BCNN.load_weights('BCNN.hdf5')"
   ]
  },
  {
   "cell_type": "code",
   "execution_count": 5,
   "metadata": {},
   "outputs": [],
   "source": [
    "with open('X_test_1.pkl', 'rb') as file:\n",
    "    X_test =pickle.load(file)\n",
    "    \n",
    "with open('y_test_1.pkl', 'rb') as file:\n",
    "    y_test =pickle.load(file)"
   ]
  },
  {
   "cell_type": "code",
   "execution_count": 6,
   "metadata": {},
   "outputs": [],
   "source": [
    "y_test = tf.one_hot(y_test, 2)"
   ]
  },
  {
   "cell_type": "code",
   "execution_count": 7,
   "metadata": {},
   "outputs": [
    {
     "data": {
      "image/png": "[encoded data removed]",
      "text/plain": [
       "<Figure size 360x360 with 1 Axes>"
      ]
     },
     "metadata": {
      "needs_background": "light"
     },
     "output_type": "display_data"
    }
   ],
   "source": [
    "pred_BCNN = BCNN.predict(X_test)\n",
    "pred1_BCNN = np.argmax(pred_BCNN,axis = 1) \n",
    "y_test_BCNN = np.argmax(y_test,axis = 1)\n",
    "CM = confusion_matrix(y_test_BCNN, pred1_BCNN)\n",
    "fig, ax = plot_confusion_matrix(conf_mat=CM ,  figsize=(5, 5))\n",
    "plt.show()"
   ]
  },
  {
   "cell_type": "code",
   "execution_count": 8,
   "metadata": {},
   "outputs": [
    {
     "name": "stdout",
     "output_type": "stream",
     "text": [
      "              precision    recall  f1-score   support\n",
      "\n",
      "           0       0.84      0.98      0.91       242\n",
      "           1       0.95      0.70      0.81       148\n",
      "\n",
      "    accuracy                           0.87       390\n",
      "   macro avg       0.90      0.84      0.86       390\n",
      "weighted avg       0.89      0.87      0.87       390\n",
      "\n"
     ]
    }
   ],
   "source": [
    "print(classification_report(y_test_BCNN, pred1_BCNN))"
   ]
  },
  {
   "cell_type": "markdown",
   "metadata": {},
   "source": [
    "# InceptionV3"
   ]
  },
  {
   "cell_type": "code",
   "execution_count": 9,
   "metadata": {},
   "outputs": [],
   "source": [
    "base_model = InceptionV3(include_top=False , input_shape=(150,150,3))\n",
    "x = base_model.output\n",
    "x = Dropout(0.25)(x)\n",
    "x = GlobalAveragePooling2D()(x)\n",
    "x = Dense(128, activation='relu')(x)\n",
    "x = BatchNormalization()(x)\n",
    "predictions = Dense(2, activation='sigmoid')(x)\n",
    "t_model = Model(inputs=base_model.input, outputs=predictions)"
   ]
  },
  {
   "cell_type": "code",
   "execution_count": 10,
   "metadata": {},
   "outputs": [],
   "source": [
    "t_model.load_weights('BCNN1.hdf5')"
   ]
  },
  {
   "cell_type": "code",
   "execution_count": 11,
   "metadata": {},
   "outputs": [
    {
     "data": {
      "image/png": "[encoded data removed]",
      "text/plain": [
       "<Figure size 360x360 with 1 Axes>"
      ]
     },
     "metadata": {
      "needs_background": "light"
     },
     "output_type": "display_data"
    }
   ],
   "source": [
    "pred_V3 = t_model.predict(X_test)\n",
    "pred1_V3 = np.argmax(pred_V3,axis = 1) \n",
    "y_test_V3 = np.argmax(y_test,axis = 1)\n",
    "CM = confusion_matrix(y_test_V3, pred1_V3)\n",
    "fig, ax = plot_confusion_matrix(conf_mat=CM ,  figsize=(5, 5))\n",
    "plt.show()"
   ]
  },
  {
   "cell_type": "code",
   "execution_count": 12,
   "metadata": {},
   "outputs": [
    {
     "name": "stdout",
     "output_type": "stream",
     "text": [
      "              precision    recall  f1-score   support\n",
      "\n",
      "           0       0.90      0.92      0.91       242\n",
      "           1       0.86      0.83      0.85       148\n",
      "\n",
      "    accuracy                           0.88       390\n",
      "   macro avg       0.88      0.87      0.88       390\n",
      "weighted avg       0.88      0.88      0.88       390\n",
      "\n"
     ]
    }
   ],
   "source": [
    "print(classification_report(y_test_V3, pred1_V3))"
   ]
  },
  {
   "cell_type": "markdown",
   "metadata": {},
   "source": [
    "# CNN"
   ]
  },
  {
   "cell_type": "code",
   "execution_count": 13,
   "metadata": {},
   "outputs": [],
   "source": [
    "K.set_image_data_format('channels_first')\n",
    "X_test=X_test.reshape(390,3,150,150)"
   ]
  },
  {
   "cell_type": "code",
   "execution_count": 14,
   "metadata": {},
   "outputs": [
    {
     "name": "stdout",
     "output_type": "stream",
     "text": [
      "Model: \"sequential\"\n",
      "_________________________________________________________________\n",
      "Layer (type)                 Output Shape              Param #   \n",
      "=================================================================\n",
      "conv2d_94 (Conv2D)           (None, 16, 150, 150)      448       \n",
      "_________________________________________________________________\n",
      "conv2d_95 (Conv2D)           (None, 16, 150, 150)      2320      \n",
      "_________________________________________________________________\n",
      "max_pooling2d_4 (MaxPooling2 (None, 16, 75, 75)        0         \n",
      "_________________________________________________________________\n",
      "conv2d_96 (Conv2D)           (None, 32, 75, 75)        4640      \n",
      "_________________________________________________________________\n",
      "conv2d_97 (Conv2D)           (None, 32, 75, 75)        9248      \n",
      "_________________________________________________________________\n",
      "max_pooling2d_5 (MaxPooling2 (None, 32, 37, 37)        0         \n",
      "_________________________________________________________________\n",
      "conv2d_98 (Conv2D)           (None, 64, 37, 37)        18496     \n",
      "_________________________________________________________________\n",
      "conv2d_99 (Conv2D)           (None, 64, 37, 37)        36928     \n",
      "_________________________________________________________________\n",
      "max_pooling2d_6 (MaxPooling2 (None, 64, 18, 18)        0         \n",
      "_________________________________________________________________\n",
      "conv2d_100 (Conv2D)          (None, 96, 18, 18)        55392     \n",
      "_________________________________________________________________\n",
      "conv2d_101 (Conv2D)          (None, 96, 16, 16)        83040     \n",
      "_________________________________________________________________\n",
      "max_pooling2d_7 (MaxPooling2 (None, 96, 8, 8)          0         \n",
      "_________________________________________________________________\n",
      "conv2d_102 (Conv2D)          (None, 128, 8, 8)         110720    \n",
      "_________________________________________________________________\n",
      "conv2d_103 (Conv2D)          (None, 128, 6, 6)         147584    \n",
      "_________________________________________________________________\n",
      "max_pooling2d_8 (MaxPooling2 (None, 128, 3, 3)         0         \n",
      "_________________________________________________________________\n",
      "flatten (Flatten)            (None, 1152)              0         \n",
      "_________________________________________________________________\n",
      "dense_3 (Dense)              (None, 64)                73792     \n",
      "_________________________________________________________________\n",
      "dropout_1 (Dropout)          (None, 64)                0         \n",
      "_________________________________________________________________\n",
      "dense_4 (Dense)              (None, 2)                 130       \n",
      "=================================================================\n",
      "Total params: 542,738\n",
      "Trainable params: 542,738\n",
      "Non-trainable params: 0\n",
      "_________________________________________________________________\n",
      "None\n"
     ]
    }
   ],
   "source": [
    "def swish_activation(x):\n",
    "    return (K.sigmoid(x) * x)\n",
    "\n",
    "model = Sequential()\n",
    "model.add(Conv2D(16, (3, 3), activation='relu', padding=\"same\", input_shape=(3,150,150)))\n",
    "model.add(Conv2D(16, (3, 3), padding=\"same\", activation='relu'))\n",
    "model.add(MaxPooling2D(pool_size=(2, 2)))\n",
    "\n",
    "model.add(Conv2D(32, (3, 3), activation='relu', padding=\"same\"))\n",
    "model.add(Conv2D(32, (3, 3), padding=\"same\", activation='relu'))\n",
    "model.add(MaxPooling2D(pool_size=(2, 2)))\n",
    "\n",
    "model.add(Conv2D(64, (3, 3), activation='relu', padding=\"same\"))\n",
    "model.add(Conv2D(64, (3, 3), padding=\"same\", activation='relu'))\n",
    "model.add(MaxPooling2D(pool_size=(2, 2)))\n",
    "\n",
    "model.add(Conv2D(96, (3, 3), dilation_rate=(2, 2), activation='relu', padding=\"same\"))\n",
    "model.add(Conv2D(96, (3, 3), padding=\"valid\", activation='relu'))\n",
    "model.add(MaxPooling2D(pool_size=(2, 2)))\n",
    "\n",
    "model.add(Conv2D(128, (3, 3), dilation_rate=(2, 2), activation='relu', padding=\"same\"))\n",
    "model.add(Conv2D(128, (3, 3), padding=\"valid\", activation='relu'))\n",
    "model.add(MaxPooling2D(pool_size=(2, 2)))\n",
    "\n",
    "model.add(Flatten())\n",
    "\n",
    "model.add(Dense(64, activation=swish_activation))\n",
    "model.add(Dropout(0.4))\n",
    "model.add(Dense(2 , activation='sigmoid'))\n",
    "\n",
    "model.compile(loss='binary_crossentropy',\n",
    "                  optimizer='adam',\n",
    "                  metrics=['accuracy'])\n",
    "\n",
    "print(model.summary())"
   ]
  },
  {
   "cell_type": "code",
   "execution_count": 15,
   "metadata": {},
   "outputs": [],
   "source": [
    "model.load_weights('BCNN2.hdf5')"
   ]
  },
  {
   "cell_type": "code",
   "execution_count": 16,
   "metadata": {},
   "outputs": [
    {
     "data": {
      "image/png": "[encoded data removed]",
      "text/plain": [
       "<Figure size 360x360 with 1 Axes>"
      ]
     },
     "metadata": {
      "needs_background": "light"
     },
     "output_type": "display_data"
    }
   ],
   "source": [
    "pred_CNN = model.predict(X_test)\n",
    "pred1_CNN = np.argmax(pred_CNN,axis = 1) \n",
    "y_test_CNN = np.argmax(y_test,axis = 1)\n",
    "CM = confusion_matrix(y_test_CNN, pred1_CNN)\n",
    "fig, ax = plot_confusion_matrix(conf_mat=CM ,  figsize=(5, 5))\n",
    "plt.show()"
   ]
  },
  {
   "cell_type": "code",
   "execution_count": 17,
   "metadata": {},
   "outputs": [
    {
     "name": "stdout",
     "output_type": "stream",
     "text": [
      "              precision    recall  f1-score   support\n",
      "\n",
      "           0       0.82      0.93      0.87       242\n",
      "           1       0.85      0.68      0.75       148\n",
      "\n",
      "    accuracy                           0.83       390\n",
      "   macro avg       0.84      0.80      0.81       390\n",
      "weighted avg       0.83      0.83      0.83       390\n",
      "\n"
     ]
    }
   ],
   "source": [
    "print(classification_report(y_test_CNN, pred1_CNN))"
   ]
  },
  {
   "cell_type": "code",
   "execution_count": 18,
   "metadata": {},
   "outputs": [],
   "source": [
    "def ROC (prediction ,test, trueclass, falseclass):\n",
    "    TP=0\n",
    "    FN=0\n",
    "    FP=0\n",
    "    TN=0\n",
    "    for i in range (test.shape[0]):\n",
    "        if prediction[i]==trueclass and test[i]==trueclass:\n",
    "            TP +=1\n",
    "        elif prediction[i]==falseclass and test[i]==falseclass:\n",
    "            TN +=1\n",
    "        elif prediction[i]==trueclass and test[i]==falseclass:\n",
    "            FP +=1\n",
    "        elif prediction[i]==falseclass and test[i]==trueclass:\n",
    "            FN +=1\n",
    "    return FP/(FP+TN), TP/(TP+FN)"
   ]
  },
  {
   "cell_type": "code",
   "execution_count": 19,
   "metadata": {},
   "outputs": [],
   "source": [
    "import copy\n",
    "def process(p,test):\n",
    "    x=[]\n",
    "    y=[]\n",
    "    p = p.tolist()\n",
    "    p.sort(reverse = True)\n",
    "    for i in np.arange(0,1,0.03):\n",
    "        predict=[]\n",
    "        for j in p:\n",
    "            if j>=i:\n",
    "                predict.append(0)\n",
    "            else:\n",
    "                predict.append(1)\n",
    "        r1, r2 = ROC(predict, test, 0, 1)\n",
    "        x.append(r1)\n",
    "        y.append(r2)\n",
    "    return x,y"
   ]
  },
  {
   "cell_type": "code",
   "execution_count": 20,
   "metadata": {},
   "outputs": [],
   "source": [
    "x1,y1 = process(pred_BCNN[:,0],y_test_BCNN)\n",
    "x2,y2 = process(pred_CNN[:,0],y_test_CNN)\n",
    "x3,y3 = process(pred_V3[:,0],y_test_V3)\n",
    "x4 = np.arange(0,1.1,0.1)\n",
    "y4 = np.arange(0,1.1,0.1)"
   ]
  },
  {
   "cell_type": "code",
   "execution_count": 22,
   "metadata": {},
   "outputs": [
    {
     "data": {
      "text/plain": [
       "<matplotlib.legend.Legend at 0x29405fa5648>"
      ]
     },
     "execution_count": 22,
     "metadata": {},
     "output_type": "execute_result"
    },
    {
     "data": {
      "image/png": "[encoded data removed]",
      "text/plain": [
       "<Figure size 432x288 with 1 Axes>"
      ]
     },
     "metadata": {
      "needs_background": "light"
     },
     "output_type": "display_data"
    }
   ],
   "source": [
    "plt.plot(x1,y1,c='g',label='BCNN')\n",
    "plt.plot(x2,y2,c='y',label='CNN')\n",
    "plt.plot(x3,y3,c='r',label='InceptionV3')\n",
    "plt.plot(x4,y4)\n",
    "plt.title('ROC')\n",
    "plt.xlabel('FPR')\n",
    "plt.ylabel('TPR')\n",
    "plt.legend(loc=4)"
   ]
  },
  {
   "cell_type": "code",
   "execution_count": null,
   "metadata": {},
   "outputs": [],
   "source": []
  }
 ],
 "metadata": {
  "kernelspec": {
   "display_name": "Python 3",
   "language": "python",
   "name": "python3"
  },
  "language_info": {
   "codemirror_mode": {
    "name": "ipython",
    "version": 3
   },
   "file_extension": ".py",
   "mimetype": "text/x-python",
   "name": "python",
   "nbconvert_exporter": "python",
   "pygments_lexer": "ipython3",
   "version": "3.7.4"
  }
 },
 "nbformat": 4,
 "nbformat_minor": 2
}
